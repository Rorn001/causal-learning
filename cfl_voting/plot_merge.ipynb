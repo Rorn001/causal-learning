{
 "cells": [
  {
   "cell_type": "code",
   "execution_count": 9,
   "metadata": {},
   "outputs": [
    {
     "name": "stderr",
     "output_type": "stream",
     "text": [
      "C:\\Users\\huang\\AppData\\Local\\Temp\\ipykernel_2688\\3349892410.py:14: DeprecationWarning: ANTIALIAS is deprecated and will be removed in Pillow 10 (2023-07-01). Use LANCZOS or Resampling.LANCZOS instead.\n",
      "  imgs[i] = img.resize((min_img_width, int(img.height / img.width * min_img_width)), Image.ANTIALIAS)\n"
     ]
    }
   ],
   "source": [
    "from PIL import Image\n",
    "images_list = ['nsw_3d_2.png',\n",
    "                'nsw_3d_3.png',\n",
    "                'nsw_3d_4.png',]\n",
    "imgs = [Image.open(i) for i in images_list]\n",
    "\n",
    "# If you're using an older version of Pillow, you might have to use .size[0] instead of .width\n",
    "# and later on, .size[1] instead of .height\n",
    "min_img_width = min(i.width for i in imgs)\n",
    "\n",
    "total_height = 0\n",
    "for i, img in enumerate(imgs):\n",
    "    # If the image is larger than the minimum width, resize it\n",
    "    if img.width > min_img_width:\n",
    "        imgs[i] = img.resize((min_img_width, int(img.height / img.width * min_img_width)), Image.ANTIALIAS)\n",
    "    total_height += imgs[i].height\n",
    "\n",
    "# I have picked the mode of the first image to be generic. You may have other ideas\n",
    "# Now that we know the total height of all of the resized images, we know the height of our final image\n",
    "img_merge = Image.new(imgs[0].mode, (min_img_width, total_height))\n",
    "y = 0\n",
    "for img in imgs:\n",
    "    img_merge.paste(img, (0, y))\n",
    "\n",
    "    y += img.height\n",
    "img_merge.save('cluster_voting.png')"
   ]
  },
  {
   "cell_type": "markdown",
   "metadata": {},
   "source": [
    "horizontal"
   ]
  },
  {
   "cell_type": "code",
   "execution_count": 1,
   "metadata": {},
   "outputs": [],
   "source": [
    "from PIL import Image\n",
    "\n",
    "# List of image filenames to merge\n",
    "images_list = ['output/nsw_cluster_2.png', 'output/nsw_cluster_3.png', 'output/nsw_cluster_4.png']\n",
    "imgs = [Image.open(i) for i in images_list]\n",
    "\n",
    "# Determine the minimum height among all images\n",
    "min_img_height = min(i.height for i in imgs)\n",
    "\n",
    "# Resize images to the minimum height while maintaining aspect ratio\n",
    "total_width = 0\n",
    "for i, img in enumerate(imgs):\n",
    "    if img.height > min_img_height:\n",
    "        new_width = int(img.width / img.height * min_img_height)\n",
    "        imgs[i] = img.resize((new_width, min_img_height), Image.LANCZOS)\n",
    "    total_width += imgs[i].width\n",
    "\n",
    "# Create a new blank image with the total width and min height\n",
    "img_merge = Image.new(imgs[0].mode, (total_width, min_img_height))\n",
    "\n",
    "# Paste images side by side\n",
    "x = 0\n",
    "for img in imgs:\n",
    "    img_merge.paste(img, (x, 0))\n",
    "    x += img.width\n",
    "\n",
    "# Save the final merged image\n",
    "img_merge.save('output/nsw_cluster.png')\n"
   ]
  }
 ],
 "metadata": {
  "kernelspec": {
   "display_name": "Python 3",
   "language": "python",
   "name": "python3"
  },
  "language_info": {
   "codemirror_mode": {
    "name": "ipython",
    "version": 3
   },
   "file_extension": ".py",
   "mimetype": "text/x-python",
   "name": "python",
   "nbconvert_exporter": "python",
   "pygments_lexer": "ipython3",
   "version": "3.11.3"
  }
 },
 "nbformat": 4,
 "nbformat_minor": 2
}
